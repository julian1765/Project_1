{
 "cells": [
  {
   "cell_type": "code",
   "execution_count": 98,
   "metadata": {},
   "outputs": [],
   "source": [
    "import pandas as pd\n",
    "from pathlib import Path\n",
    "import seaborn as sns\n",
    "import datetime as dt\n",
    "import numpy as np\n",
    "%matplotlib inline"
   ]
  },
  {
   "cell_type": "code",
   "execution_count": 99,
   "metadata": {},
   "outputs": [],
   "source": [
    "#Importing Data from CSV Files\n",
    "xlk_csv = pd.read_csv(\"../Project_1/xlk.csv\", index_col = \"Date\", infer_datetime_format = True, \n",
    "                      parse_dates = True)\n",
    "xlf_csv = pd.read_csv(\"../Project_1/XLF.csv\", index_col = \"Date\", infer_datetime_format = True, \n",
    "                      parse_dates = True)\n",
    "vnq_csv = pd.read_csv(\"../Project_1/VNQ.csv\", index_col = \"Date\", infer_datetime_format = True, \n",
    "                      parse_dates = True)\n",
    "spy_csv = pd.read_csv(\"../Project_1/spy.csv\", index_col = \"Date\", infer_datetime_format = True, \n",
    "                      parse_dates = True)\n",
    "ibb_csv = pd.read_csv(\"../Project_1/ibb.csv\", index_col = \"Date\", infer_datetime_format = True, \n",
    "                      parse_dates = True)\n",
    "covid_data = pd.read_csv(\"United_States_COVID-19_Cases_and_Deaths_by_State_over_Time.csv\", \n",
    "                         index_col=\"submission_date\", parse_dates=True)"
   ]
  },
  {
   "cell_type": "code",
   "execution_count": 118,
   "metadata": {},
   "outputs": [
    {
     "data": {
      "text/html": [
       "<div>\n",
       "<style scoped>\n",
       "    .dataframe tbody tr th:only-of-type {\n",
       "        vertical-align: middle;\n",
       "    }\n",
       "\n",
       "    .dataframe tbody tr th {\n",
       "        vertical-align: top;\n",
       "    }\n",
       "\n",
       "    .dataframe thead th {\n",
       "        text-align: right;\n",
       "    }\n",
       "</style>\n",
       "<table border=\"1\" class=\"dataframe\">\n",
       "  <thead>\n",
       "    <tr style=\"text-align: right;\">\n",
       "      <th></th>\n",
       "      <th>XLK</th>\n",
       "      <th>XLF</th>\n",
       "      <th>VNQ</th>\n",
       "      <th>SPY</th>\n",
       "      <th>IBB</th>\n",
       "    </tr>\n",
       "    <tr>\n",
       "      <th>Date</th>\n",
       "      <th></th>\n",
       "      <th></th>\n",
       "      <th></th>\n",
       "      <th></th>\n",
       "      <th></th>\n",
       "    </tr>\n",
       "  </thead>\n",
       "  <tbody>\n",
       "    <tr>\n",
       "      <th>2017-01-03</th>\n",
       "      <td>48.79</td>\n",
       "      <td>23.51</td>\n",
       "      <td>82.80</td>\n",
       "      <td>225.24</td>\n",
       "      <td>90.08</td>\n",
       "    </tr>\n",
       "    <tr>\n",
       "      <th>2017-01-04</th>\n",
       "      <td>48.96</td>\n",
       "      <td>23.70</td>\n",
       "      <td>84.01</td>\n",
       "      <td>226.58</td>\n",
       "      <td>92.41</td>\n",
       "    </tr>\n",
       "    <tr>\n",
       "      <th>2017-01-05</th>\n",
       "      <td>49.04</td>\n",
       "      <td>23.46</td>\n",
       "      <td>84.28</td>\n",
       "      <td>226.40</td>\n",
       "      <td>92.70</td>\n",
       "    </tr>\n",
       "    <tr>\n",
       "      <th>2017-01-06</th>\n",
       "      <td>49.40</td>\n",
       "      <td>23.54</td>\n",
       "      <td>84.29</td>\n",
       "      <td>227.21</td>\n",
       "      <td>93.42</td>\n",
       "    </tr>\n",
       "    <tr>\n",
       "      <th>2017-01-09</th>\n",
       "      <td>49.39</td>\n",
       "      <td>23.38</td>\n",
       "      <td>83.53</td>\n",
       "      <td>226.46</td>\n",
       "      <td>94.76</td>\n",
       "    </tr>\n",
       "  </tbody>\n",
       "</table>\n",
       "</div>"
      ],
      "text/plain": [
       "              XLK    XLF    VNQ     SPY    IBB\n",
       "Date                                          \n",
       "2017-01-03  48.79  23.51  82.80  225.24  90.08\n",
       "2017-01-04  48.96  23.70  84.01  226.58  92.41\n",
       "2017-01-05  49.04  23.46  84.28  226.40  92.70\n",
       "2017-01-06  49.40  23.54  84.29  227.21  93.42\n",
       "2017-01-09  49.39  23.38  83.53  226.46  94.76"
      ]
     },
     "execution_count": 118,
     "metadata": {},
     "output_type": "execute_result"
    }
   ],
   "source": [
    "#Before Covid\n",
    "xlk_pre_covid = xlk_csv.reset_index()\n",
    "xlk_pre_covid = xlk_pre_covid[0:767]\n",
    "xlk_pre_covid.columns = ['Date', 'XLK']\n",
    "\n",
    "xlf_pre_covid = xlf_csv.reset_index()\n",
    "xlf_pre_covid = xlf_pre_covid[0:767]\n",
    "xlf_pre_covid.columns = ['Date', 'XLF']\n",
    "xlf_pre_covid = xlf_pre_covid.drop(columns=['Date'])\n",
    "\n",
    "vnq_pre_covid = vnq_csv.reset_index()\n",
    "vnq_pre_covid = vnq_pre_covid[0:767]\n",
    "vnq_pre_covid.columns = ['Date', 'VNQ']\n",
    "vnq_pre_covid = vnq_pre_covid.drop(columns=['Date'])\n",
    "\n",
    "spy_pre_covid = spy_csv.reset_index()\n",
    "spy_pre_covid = spy_pre_covid[0:767]\n",
    "spy_pre_covid.columns = ['Date', 'SPY']\n",
    "spy_pre_covid = spy_pre_covid.drop(columns=['Date'])\n",
    "\n",
    "ibb_pre_covid = ibb_csv.reset_index()\n",
    "ibb_pre_covid = ibb_pre_covid[0:767]\n",
    "ibb_pre_covid.columns = ['Date', 'IBB']\n",
    "ibb_pre_covid = ibb_pre_covid.drop(columns=['Date'])\n",
    "\n",
    "pre_covid_concat = pd.concat([xlk_pre_covid, xlf_pre_covid, vnq_pre_covid,\n",
    "                              spy_pre_covid, ibb_pre_covid], axis = \"columns\", join = \"inner\")\n",
    "pre_covid_concat.set_index([\"Date\"], inplace = True)\n",
    "pre_covid_concat.head()"
   ]
  },
  {
   "cell_type": "code",
   "execution_count": null,
   "metadata": {},
   "outputs": [],
   "source": [
    "\n"
   ]
  },
  {
   "cell_type": "code",
   "execution_count": 132,
   "metadata": {},
   "outputs": [
    {
     "data": {
      "text/html": [
       "<div>\n",
       "<style scoped>\n",
       "    .dataframe tbody tr th:only-of-type {\n",
       "        vertical-align: middle;\n",
       "    }\n",
       "\n",
       "    .dataframe tbody tr th {\n",
       "        vertical-align: top;\n",
       "    }\n",
       "\n",
       "    .dataframe thead th {\n",
       "        text-align: right;\n",
       "    }\n",
       "</style>\n",
       "<table border=\"1\" class=\"dataframe\">\n",
       "  <thead>\n",
       "    <tr style=\"text-align: right;\">\n",
       "      <th></th>\n",
       "      <th>XLK</th>\n",
       "      <th>XLF</th>\n",
       "      <th>VNQ</th>\n",
       "      <th>SPY</th>\n",
       "      <th>IBB</th>\n",
       "    </tr>\n",
       "    <tr>\n",
       "      <th>Date</th>\n",
       "      <th></th>\n",
       "      <th></th>\n",
       "      <th></th>\n",
       "      <th></th>\n",
       "      <th></th>\n",
       "    </tr>\n",
       "  </thead>\n",
       "  <tbody>\n",
       "    <tr>\n",
       "      <th>2020-01-22</th>\n",
       "      <td>97.43</td>\n",
       "      <td>30.86</td>\n",
       "      <td>94.98</td>\n",
       "      <td>331.34</td>\n",
       "      <td>120.55</td>\n",
       "    </tr>\n",
       "    <tr>\n",
       "      <th>2020-01-23</th>\n",
       "      <td>97.89</td>\n",
       "      <td>30.78</td>\n",
       "      <td>95.78</td>\n",
       "      <td>331.72</td>\n",
       "      <td>119.50</td>\n",
       "    </tr>\n",
       "    <tr>\n",
       "      <th>2020-01-24</th>\n",
       "      <td>97.43</td>\n",
       "      <td>30.39</td>\n",
       "      <td>95.45</td>\n",
       "      <td>328.77</td>\n",
       "      <td>116.88</td>\n",
       "    </tr>\n",
       "    <tr>\n",
       "      <th>2020-01-27</th>\n",
       "      <td>95.11</td>\n",
       "      <td>29.92</td>\n",
       "      <td>94.99</td>\n",
       "      <td>323.50</td>\n",
       "      <td>116.09</td>\n",
       "    </tr>\n",
       "    <tr>\n",
       "      <th>2020-01-28</th>\n",
       "      <td>96.93</td>\n",
       "      <td>30.27</td>\n",
       "      <td>95.37</td>\n",
       "      <td>326.89</td>\n",
       "      <td>117.32</td>\n",
       "    </tr>\n",
       "  </tbody>\n",
       "</table>\n",
       "</div>"
      ],
      "text/plain": [
       "              XLK    XLF    VNQ     SPY     IBB\n",
       "Date                                           \n",
       "2020-01-22  97.43  30.86  94.98  331.34  120.55\n",
       "2020-01-23  97.89  30.78  95.78  331.72  119.50\n",
       "2020-01-24  97.43  30.39  95.45  328.77  116.88\n",
       "2020-01-27  95.11  29.92  94.99  323.50  116.09\n",
       "2020-01-28  96.93  30.27  95.37  326.89  117.32"
      ]
     },
     "execution_count": 132,
     "metadata": {},
     "output_type": "execute_result"
    }
   ],
   "source": [
    "#During Covid\n",
    "xlk_post_covid = xlk_csv.reset_index()\n",
    "xlk_post_covid = xlk_post_covid[767:]\n",
    "xlk_post_covid.columns = ['Date', 'XLK']\n",
    "\n",
    "xlf_post_covid = xlf_csv.reset_index()\n",
    "xlf_post_covid = xlf_post_covid[767:]\n",
    "xlf_post_covid.columns = ['Date', 'XLF']\n",
    "xlf_post_covid = xlf_post_covid.drop(columns=['Date'])\n",
    "\n",
    "vnq_post_covid = vnq_csv.reset_index()\n",
    "vnq_post_covid = vnq_post_covid[767:]\n",
    "vnq_post_covid.columns = ['Date', 'VNQ']\n",
    "vnq_post_covid = vnq_post_covid.drop(columns=['Date'])\n",
    "\n",
    "spy_post_covid = spy_csv.reset_index()\n",
    "spy_post_covid = spy_post_covid[767:]\n",
    "spy_post_covid.columns = ['Date', 'SPY']\n",
    "spy_post_covid = spy_post_covid.drop(columns=['Date'])\n",
    "\n",
    "ibb_post_covid = ibb_csv.reset_index()\n",
    "ibb_post_covid = ibb_post_covid[767:]\n",
    "ibb_post_covid.columns = ['Date', 'IBB']\n",
    "ibb_post_covid = ibb_post_covid.drop(columns=['Date'])\n",
    "\n",
    "during_covid_concat = pd.concat([xlk_post_covid, xlf_post_covid, vnq_post_covid,\n",
    "                              spy_post_covid, ibb_post_covid], axis = \"columns\", join = \"inner\")\n",
    "during_covid_concat.set_index([\"Date\"], inplace = True)\n",
    "during_covid_concat.head()"
   ]
  },
  {
   "cell_type": "code",
   "execution_count": 120,
   "metadata": {},
   "outputs": [
    {
     "data": {
      "text/plain": [
       "<matplotlib.axes._subplots.AxesSubplot at 0x7feac2308450>"
      ]
     },
     "execution_count": 120,
     "metadata": {},
     "output_type": "execute_result"
    },
    {
     "data": {
      "image/png": "[encoded data removed]",
      "text/plain": [
       "<Figure size 432x288 with 1 Axes>"
      ]
     },
     "metadata": {
      "needs_background": "light"
     },
     "output_type": "display_data"
    }
   ],
   "source": [
    "sns.boxplot(data = during_covid_concat)"
   ]
  },
  {
   "cell_type": "code",
   "execution_count": 121,
   "metadata": {},
   "outputs": [
    {
     "data": {
      "text/plain": [
       "<matplotlib.axes._subplots.AxesSubplot at 0x7feac4f59d10>"
      ]
     },
     "execution_count": 121,
     "metadata": {},
     "output_type": "execute_result"
    },
    {
     "data": {
      "image/png": "[encoded data removed]",
      "text/plain": [
       "<Figure size 432x288 with 1 Axes>"
      ]
     },
     "metadata": {
      "needs_background": "light"
     },
     "output_type": "display_data"
    }
   ],
   "source": [
    "sns.boxplot(data = pre_covid_concat)"
   ]
  },
  {
   "cell_type": "code",
   "execution_count": 122,
   "metadata": {},
   "outputs": [
    {
     "data": {
      "text/html": [
       "<div>\n",
       "<style scoped>\n",
       "    .dataframe tbody tr th:only-of-type {\n",
       "        vertical-align: middle;\n",
       "    }\n",
       "\n",
       "    .dataframe tbody tr th {\n",
       "        vertical-align: top;\n",
       "    }\n",
       "\n",
       "    .dataframe thead th {\n",
       "        text-align: right;\n",
       "    }\n",
       "</style>\n",
       "<table border=\"1\" class=\"dataframe\">\n",
       "  <thead>\n",
       "    <tr style=\"text-align: right;\">\n",
       "      <th></th>\n",
       "      <th>tot_cases</th>\n",
       "      <th>tot_death</th>\n",
       "    </tr>\n",
       "    <tr>\n",
       "      <th>submission_date</th>\n",
       "      <th></th>\n",
       "      <th></th>\n",
       "    </tr>\n",
       "  </thead>\n",
       "  <tbody>\n",
       "    <tr>\n",
       "      <th>2020-01-22</th>\n",
       "      <td>1</td>\n",
       "      <td>0</td>\n",
       "    </tr>\n",
       "    <tr>\n",
       "      <th>2020-01-23</th>\n",
       "      <td>1</td>\n",
       "      <td>0</td>\n",
       "    </tr>\n",
       "    <tr>\n",
       "      <th>2020-01-24</th>\n",
       "      <td>2</td>\n",
       "      <td>0</td>\n",
       "    </tr>\n",
       "    <tr>\n",
       "      <th>2020-01-25</th>\n",
       "      <td>2</td>\n",
       "      <td>0</td>\n",
       "    </tr>\n",
       "    <tr>\n",
       "      <th>2020-01-26</th>\n",
       "      <td>5</td>\n",
       "      <td>0</td>\n",
       "    </tr>\n",
       "  </tbody>\n",
       "</table>\n",
       "</div>"
      ],
      "text/plain": [
       "                 tot_cases  tot_death\n",
       "submission_date                      \n",
       "2020-01-22               1          0\n",
       "2020-01-23               1          0\n",
       "2020-01-24               2          0\n",
       "2020-01-25               2          0\n",
       "2020-01-26               5          0"
      ]
     },
     "execution_count": 122,
     "metadata": {},
     "output_type": "execute_result"
    }
   ],
   "source": [
    "#Cleaning Covid Dataset\n",
    "covid_clean_data = covid_data[[\"tot_cases\",\"tot_death\"]]\n",
    "covid_really_clean = covid_clean_data.groupby(covid_clean_data.index).sum()\n",
    "covid_really_clean.head()"
   ]
  },
  {
   "cell_type": "code",
   "execution_count": 123,
   "metadata": {},
   "outputs": [],
   "source": [
    "# tot_cases; tot_death\n",
    "# range dates\n",
    "# delete weekends"
   ]
  },
  {
   "cell_type": "code",
   "execution_count": 124,
   "metadata": {},
   "outputs": [],
   "source": [
    "covid_clean_data = covid_data[[\"tot_cases\",\"tot_death\"]]"
   ]
  },
  {
   "cell_type": "code",
   "execution_count": 125,
   "metadata": {},
   "outputs": [
    {
     "data": {
      "text/html": [
       "<div>\n",
       "<style scoped>\n",
       "    .dataframe tbody tr th:only-of-type {\n",
       "        vertical-align: middle;\n",
       "    }\n",
       "\n",
       "    .dataframe tbody tr th {\n",
       "        vertical-align: top;\n",
       "    }\n",
       "\n",
       "    .dataframe thead th {\n",
       "        text-align: right;\n",
       "    }\n",
       "</style>\n",
       "<table border=\"1\" class=\"dataframe\">\n",
       "  <thead>\n",
       "    <tr style=\"text-align: right;\">\n",
       "      <th></th>\n",
       "      <th>tot_cases</th>\n",
       "      <th>tot_death</th>\n",
       "    </tr>\n",
       "    <tr>\n",
       "      <th>submission_date</th>\n",
       "      <th></th>\n",
       "      <th></th>\n",
       "    </tr>\n",
       "  </thead>\n",
       "  <tbody>\n",
       "    <tr>\n",
       "      <th>2020-01-22</th>\n",
       "      <td>0</td>\n",
       "      <td>0</td>\n",
       "    </tr>\n",
       "    <tr>\n",
       "      <th>2020-01-23</th>\n",
       "      <td>0</td>\n",
       "      <td>0</td>\n",
       "    </tr>\n",
       "    <tr>\n",
       "      <th>2020-01-24</th>\n",
       "      <td>0</td>\n",
       "      <td>0</td>\n",
       "    </tr>\n",
       "    <tr>\n",
       "      <th>2020-01-25</th>\n",
       "      <td>0</td>\n",
       "      <td>0</td>\n",
       "    </tr>\n",
       "    <tr>\n",
       "      <th>2020-01-26</th>\n",
       "      <td>0</td>\n",
       "      <td>0</td>\n",
       "    </tr>\n",
       "  </tbody>\n",
       "</table>\n",
       "</div>"
      ],
      "text/plain": [
       "                 tot_cases  tot_death\n",
       "submission_date                      \n",
       "2020-01-22               0          0\n",
       "2020-01-23               0          0\n",
       "2020-01-24               0          0\n",
       "2020-01-25               0          0\n",
       "2020-01-26               0          0"
      ]
     },
     "execution_count": 125,
     "metadata": {},
     "output_type": "execute_result"
    }
   ],
   "source": [
    "covid_clean_data.head()"
   ]
  },
  {
   "cell_type": "code",
   "execution_count": 126,
   "metadata": {},
   "outputs": [
    {
     "data": {
      "text/html": [
       "<div>\n",
       "<style scoped>\n",
       "    .dataframe tbody tr th:only-of-type {\n",
       "        vertical-align: middle;\n",
       "    }\n",
       "\n",
       "    .dataframe tbody tr th {\n",
       "        vertical-align: top;\n",
       "    }\n",
       "\n",
       "    .dataframe thead th {\n",
       "        text-align: right;\n",
       "    }\n",
       "</style>\n",
       "<table border=\"1\" class=\"dataframe\">\n",
       "  <thead>\n",
       "    <tr style=\"text-align: right;\">\n",
       "      <th></th>\n",
       "      <th>Date</th>\n",
       "      <th>tot_cases</th>\n",
       "      <th>tot_death</th>\n",
       "    </tr>\n",
       "  </thead>\n",
       "  <tbody>\n",
       "    <tr>\n",
       "      <th>0</th>\n",
       "      <td>2020-01-22</td>\n",
       "      <td>1</td>\n",
       "      <td>0</td>\n",
       "    </tr>\n",
       "    <tr>\n",
       "      <th>1</th>\n",
       "      <td>2020-01-23</td>\n",
       "      <td>1</td>\n",
       "      <td>0</td>\n",
       "    </tr>\n",
       "    <tr>\n",
       "      <th>2</th>\n",
       "      <td>2020-01-24</td>\n",
       "      <td>2</td>\n",
       "      <td>0</td>\n",
       "    </tr>\n",
       "    <tr>\n",
       "      <th>3</th>\n",
       "      <td>2020-01-25</td>\n",
       "      <td>2</td>\n",
       "      <td>0</td>\n",
       "    </tr>\n",
       "    <tr>\n",
       "      <th>4</th>\n",
       "      <td>2020-01-26</td>\n",
       "      <td>5</td>\n",
       "      <td>0</td>\n",
       "    </tr>\n",
       "  </tbody>\n",
       "</table>\n",
       "</div>"
      ],
      "text/plain": [
       "        Date  tot_cases  tot_death\n",
       "0 2020-01-22          1          0\n",
       "1 2020-01-23          1          0\n",
       "2 2020-01-24          2          0\n",
       "3 2020-01-25          2          0\n",
       "4 2020-01-26          5          0"
      ]
     },
     "execution_count": 126,
     "metadata": {},
     "output_type": "execute_result"
    }
   ],
   "source": [
    "covid_really_clean = covid_clean_data.groupby(covid_clean_data.index).sum()\n",
    "covid_really_clean.reset_index(inplace = True)\n",
    "covid_really_clean.columns = ['Date', 'tot_cases', 'tot_death']\n",
    "covid_really_clean.head()"
   ]
  },
  {
   "cell_type": "code",
   "execution_count": 127,
   "metadata": {},
   "outputs": [
    {
     "data": {
      "text/html": [
       "<div>\n",
       "<style scoped>\n",
       "    .dataframe tbody tr th:only-of-type {\n",
       "        vertical-align: middle;\n",
       "    }\n",
       "\n",
       "    .dataframe tbody tr th {\n",
       "        vertical-align: top;\n",
       "    }\n",
       "\n",
       "    .dataframe thead th {\n",
       "        text-align: right;\n",
       "    }\n",
       "</style>\n",
       "<table border=\"1\" class=\"dataframe\">\n",
       "  <thead>\n",
       "    <tr style=\"text-align: right;\">\n",
       "      <th></th>\n",
       "      <th>tot_cases</th>\n",
       "      <th>tot_death</th>\n",
       "    </tr>\n",
       "    <tr>\n",
       "      <th>Date</th>\n",
       "      <th></th>\n",
       "      <th></th>\n",
       "    </tr>\n",
       "  </thead>\n",
       "  <tbody>\n",
       "    <tr>\n",
       "      <th>2020-01-22</th>\n",
       "      <td>1</td>\n",
       "      <td>0</td>\n",
       "    </tr>\n",
       "    <tr>\n",
       "      <th>2020-01-23</th>\n",
       "      <td>1</td>\n",
       "      <td>0</td>\n",
       "    </tr>\n",
       "    <tr>\n",
       "      <th>2020-01-24</th>\n",
       "      <td>2</td>\n",
       "      <td>0</td>\n",
       "    </tr>\n",
       "    <tr>\n",
       "      <th>2020-01-25</th>\n",
       "      <td>2</td>\n",
       "      <td>0</td>\n",
       "    </tr>\n",
       "    <tr>\n",
       "      <th>2020-01-26</th>\n",
       "      <td>5</td>\n",
       "      <td>0</td>\n",
       "    </tr>\n",
       "  </tbody>\n",
       "</table>\n",
       "</div>"
      ],
      "text/plain": [
       "            tot_cases  tot_death\n",
       "Date                            \n",
       "2020-01-22          1          0\n",
       "2020-01-23          1          0\n",
       "2020-01-24          2          0\n",
       "2020-01-25          2          0\n",
       "2020-01-26          5          0"
      ]
     },
     "execution_count": 127,
     "metadata": {},
     "output_type": "execute_result"
    }
   ],
   "source": [
    "covid_really_clean.set_index('Date', inplace=True)\n",
    "covid_really_clean.head()\n",
    "\n"
   ]
  },
  {
   "cell_type": "code",
   "execution_count": 128,
   "metadata": {},
   "outputs": [
    {
     "data": {
      "text/html": [
       "<div>\n",
       "<style scoped>\n",
       "    .dataframe tbody tr th:only-of-type {\n",
       "        vertical-align: middle;\n",
       "    }\n",
       "\n",
       "    .dataframe tbody tr th {\n",
       "        vertical-align: top;\n",
       "    }\n",
       "\n",
       "    .dataframe thead th {\n",
       "        text-align: right;\n",
       "    }\n",
       "</style>\n",
       "<table border=\"1\" class=\"dataframe\">\n",
       "  <thead>\n",
       "    <tr style=\"text-align: right;\">\n",
       "      <th></th>\n",
       "      <th>tot_cases</th>\n",
       "      <th>tot_death</th>\n",
       "      <th>Tech</th>\n",
       "      <th>Finance</th>\n",
       "      <th>Real_Estate</th>\n",
       "      <th>SNP_500</th>\n",
       "      <th>BioTech</th>\n",
       "    </tr>\n",
       "    <tr>\n",
       "      <th>Date</th>\n",
       "      <th></th>\n",
       "      <th></th>\n",
       "      <th></th>\n",
       "      <th></th>\n",
       "      <th></th>\n",
       "      <th></th>\n",
       "      <th></th>\n",
       "    </tr>\n",
       "  </thead>\n",
       "  <tbody>\n",
       "    <tr>\n",
       "      <th>2020-01-22</th>\n",
       "      <td>1</td>\n",
       "      <td>0</td>\n",
       "      <td>97.43</td>\n",
       "      <td>30.86</td>\n",
       "      <td>94.98</td>\n",
       "      <td>331.34</td>\n",
       "      <td>120.55</td>\n",
       "    </tr>\n",
       "    <tr>\n",
       "      <th>2020-01-23</th>\n",
       "      <td>1</td>\n",
       "      <td>0</td>\n",
       "      <td>97.89</td>\n",
       "      <td>30.78</td>\n",
       "      <td>95.78</td>\n",
       "      <td>331.72</td>\n",
       "      <td>119.50</td>\n",
       "    </tr>\n",
       "    <tr>\n",
       "      <th>2020-01-24</th>\n",
       "      <td>2</td>\n",
       "      <td>0</td>\n",
       "      <td>97.43</td>\n",
       "      <td>30.39</td>\n",
       "      <td>95.45</td>\n",
       "      <td>328.77</td>\n",
       "      <td>116.88</td>\n",
       "    </tr>\n",
       "    <tr>\n",
       "      <th>2020-01-27</th>\n",
       "      <td>5</td>\n",
       "      <td>0</td>\n",
       "      <td>95.11</td>\n",
       "      <td>29.92</td>\n",
       "      <td>94.99</td>\n",
       "      <td>323.50</td>\n",
       "      <td>116.09</td>\n",
       "    </tr>\n",
       "    <tr>\n",
       "      <th>2020-01-28</th>\n",
       "      <td>5</td>\n",
       "      <td>0</td>\n",
       "      <td>96.93</td>\n",
       "      <td>30.27</td>\n",
       "      <td>95.37</td>\n",
       "      <td>326.89</td>\n",
       "      <td>117.32</td>\n",
       "    </tr>\n",
       "  </tbody>\n",
       "</table>\n",
       "</div>"
      ],
      "text/plain": [
       "            tot_cases  tot_death   Tech  Finance  Real_Estate  SNP_500  \\\n",
       "Date                                                                     \n",
       "2020-01-22          1          0  97.43    30.86        94.98   331.34   \n",
       "2020-01-23          1          0  97.89    30.78        95.78   331.72   \n",
       "2020-01-24          2          0  97.43    30.39        95.45   328.77   \n",
       "2020-01-27          5          0  95.11    29.92        94.99   323.50   \n",
       "2020-01-28          5          0  96.93    30.27        95.37   326.89   \n",
       "\n",
       "            BioTech  \n",
       "Date                 \n",
       "2020-01-22   120.55  \n",
       "2020-01-23   119.50  \n",
       "2020-01-24   116.88  \n",
       "2020-01-27   116.09  \n",
       "2020-01-28   117.32  "
      ]
     },
     "execution_count": 128,
     "metadata": {},
     "output_type": "execute_result"
    }
   ],
   "source": [
    "#Concat all covid data \n",
    "covid_data_impact = pd.concat([covid_really_clean, during_covid_concat], axis = 'columns',\n",
    "                              join = 'inner'\n",
    "                             )\n",
    "covid_data_impact.head()"
   ]
  },
  {
   "cell_type": "code",
   "execution_count": 129,
   "metadata": {},
   "outputs": [
    {
     "data": {
      "text/html": [
       "<div>\n",
       "<style scoped>\n",
       "    .dataframe tbody tr th:only-of-type {\n",
       "        vertical-align: middle;\n",
       "    }\n",
       "\n",
       "    .dataframe tbody tr th {\n",
       "        vertical-align: top;\n",
       "    }\n",
       "\n",
       "    .dataframe thead th {\n",
       "        text-align: right;\n",
       "    }\n",
       "</style>\n",
       "<table border=\"1\" class=\"dataframe\">\n",
       "  <thead>\n",
       "    <tr style=\"text-align: right;\">\n",
       "      <th></th>\n",
       "      <th>XLK</th>\n",
       "      <th>XLF</th>\n",
       "      <th>VNQ</th>\n",
       "      <th>SPY</th>\n",
       "      <th>IBB</th>\n",
       "    </tr>\n",
       "    <tr>\n",
       "      <th>Date</th>\n",
       "      <th></th>\n",
       "      <th></th>\n",
       "      <th></th>\n",
       "      <th></th>\n",
       "      <th></th>\n",
       "    </tr>\n",
       "  </thead>\n",
       "  <tbody>\n",
       "    <tr>\n",
       "      <th>2017-01-04</th>\n",
       "      <td>0.003484</td>\n",
       "      <td>0.008082</td>\n",
       "      <td>0.014614</td>\n",
       "      <td>0.005949</td>\n",
       "      <td>0.025866</td>\n",
       "    </tr>\n",
       "    <tr>\n",
       "      <th>2017-01-05</th>\n",
       "      <td>0.001634</td>\n",
       "      <td>-0.010127</td>\n",
       "      <td>0.003214</td>\n",
       "      <td>-0.000794</td>\n",
       "      <td>0.003138</td>\n",
       "    </tr>\n",
       "    <tr>\n",
       "      <th>2017-01-06</th>\n",
       "      <td>0.007341</td>\n",
       "      <td>0.003410</td>\n",
       "      <td>0.000119</td>\n",
       "      <td>0.003578</td>\n",
       "      <td>0.007767</td>\n",
       "    </tr>\n",
       "    <tr>\n",
       "      <th>2017-01-09</th>\n",
       "      <td>-0.000202</td>\n",
       "      <td>-0.006797</td>\n",
       "      <td>-0.009016</td>\n",
       "      <td>-0.003301</td>\n",
       "      <td>0.014344</td>\n",
       "    </tr>\n",
       "    <tr>\n",
       "      <th>2017-01-10</th>\n",
       "      <td>0.000202</td>\n",
       "      <td>0.002139</td>\n",
       "      <td>-0.008500</td>\n",
       "      <td>0.000000</td>\n",
       "      <td>0.007809</td>\n",
       "    </tr>\n",
       "  </tbody>\n",
       "</table>\n",
       "</div>"
      ],
      "text/plain": [
       "                 XLK       XLF       VNQ       SPY       IBB\n",
       "Date                                                        \n",
       "2017-01-04  0.003484  0.008082  0.014614  0.005949  0.025866\n",
       "2017-01-05  0.001634 -0.010127  0.003214 -0.000794  0.003138\n",
       "2017-01-06  0.007341  0.003410  0.000119  0.003578  0.007767\n",
       "2017-01-09 -0.000202 -0.006797 -0.009016 -0.003301  0.014344\n",
       "2017-01-10  0.000202  0.002139 -0.008500  0.000000  0.007809"
      ]
     },
     "execution_count": 129,
     "metadata": {},
     "output_type": "execute_result"
    }
   ],
   "source": [
    "#Statistical analysis of pre_covid\n",
    "pre_covid_pct_change = pre_covid_concat.pct_change().dropna()\n",
    "pre_covid_pct_change.head()"
   ]
  },
  {
   "cell_type": "code",
   "execution_count": 130,
   "metadata": {},
   "outputs": [
    {
     "data": {
      "text/plain": [
       "XLK    10.516747\n",
       "XLF     1.948106\n",
       "VNQ     5.168474\n",
       "SPY    23.704108\n",
       "IBB     7.084195\n",
       "dtype: float64"
      ]
     },
     "execution_count": 130,
     "metadata": {},
     "output_type": "execute_result"
    }
   ],
   "source": [
    "#Standard Dev Pre-Covid\n",
    "pre_covid_std = pre_covid_concat.std()\n",
    "pre_covid_std"
   ]
  },
  {
   "cell_type": "code",
   "execution_count": 131,
   "metadata": {},
   "outputs": [
    {
     "data": {
      "text/plain": [
       "Date\n",
       "2017-01-24    0.327160\n",
       "2017-01-25    0.759335\n",
       "2017-01-26    1.157169\n",
       "2017-01-27    1.364727\n",
       "2017-01-30    1.372660\n",
       "Name: SPY, dtype: float64"
      ]
     },
     "execution_count": 131,
     "metadata": {},
     "output_type": "execute_result"
    }
   ],
   "source": [
    "#Covariance for Pre-covid for XLK\n",
    "pre_covid_xlk_cov = pre_covid_concat['XLK'].rolling(window = 15).cov(pre_covid_concat['SPY']).dropna()\n",
    "pre_covid_xlf_cov = pre_covid_concat['XLF'].rolling(window = 15).cov(pre_covid_concat['SPY']).dropna()\n",
    "pre_covid_vnq_cov = pre_covid_concat['VNQ'].rolling(window = 15).cov(pre_covid_concat['SPY']).dropna()\n",
    "pre_covid_ibb_cov = pre_covid_concat['IBB'].rolling(window = 15).cov(pre_covid_concat['SPY']).dropna()\n",
    "\n",
    "\n",
    "pre_covid_var = pre_covid_concat['SPY'].rolling(window = 15).var().dropna()\n",
    "\n",
    "\n",
    "pre_covid_var.head()"
   ]
  },
  {
   "cell_type": "code",
   "execution_count": 114,
   "metadata": {},
   "outputs": [
    {
     "data": {
      "text/html": [
       "<div>\n",
       "<style scoped>\n",
       "    .dataframe tbody tr th:only-of-type {\n",
       "        vertical-align: middle;\n",
       "    }\n",
       "\n",
       "    .dataframe tbody tr th {\n",
       "        vertical-align: top;\n",
       "    }\n",
       "\n",
       "    .dataframe thead th {\n",
       "        text-align: right;\n",
       "    }\n",
       "</style>\n",
       "<table border=\"1\" class=\"dataframe\">\n",
       "  <thead>\n",
       "    <tr style=\"text-align: right;\">\n",
       "      <th></th>\n",
       "      <th>Tech</th>\n",
       "      <th>Finance</th>\n",
       "      <th>Real_Estate</th>\n",
       "      <th>BioTech</th>\n",
       "    </tr>\n",
       "    <tr>\n",
       "      <th>Date</th>\n",
       "      <th></th>\n",
       "      <th></th>\n",
       "      <th></th>\n",
       "      <th></th>\n",
       "    </tr>\n",
       "  </thead>\n",
       "  <tbody>\n",
       "    <tr>\n",
       "      <th>2017-01-24</th>\n",
       "      <td>0.378945</td>\n",
       "      <td>0.092458</td>\n",
       "      <td>0.259659</td>\n",
       "      <td>0.589890</td>\n",
       "    </tr>\n",
       "    <tr>\n",
       "      <th>2017-01-25</th>\n",
       "      <td>0.363786</td>\n",
       "      <td>0.153651</td>\n",
       "      <td>0.041392</td>\n",
       "      <td>-0.443693</td>\n",
       "    </tr>\n",
       "    <tr>\n",
       "      <th>2017-01-26</th>\n",
       "      <td>0.352192</td>\n",
       "      <td>0.166133</td>\n",
       "      <td>0.021160</td>\n",
       "      <td>-0.542760</td>\n",
       "    </tr>\n",
       "    <tr>\n",
       "      <th>2017-01-27</th>\n",
       "      <td>0.364712</td>\n",
       "      <td>0.173032</td>\n",
       "      <td>-0.025382</td>\n",
       "      <td>-0.521204</td>\n",
       "    </tr>\n",
       "    <tr>\n",
       "      <th>2017-01-30</th>\n",
       "      <td>0.370591</td>\n",
       "      <td>0.173805</td>\n",
       "      <td>-0.046958</td>\n",
       "      <td>-0.550743</td>\n",
       "    </tr>\n",
       "  </tbody>\n",
       "</table>\n",
       "</div>"
      ],
      "text/plain": [
       "                Tech   Finance  Real_Estate   BioTech\n",
       "Date                                                 \n",
       "2017-01-24  0.378945  0.092458     0.259659  0.589890\n",
       "2017-01-25  0.363786  0.153651     0.041392 -0.443693\n",
       "2017-01-26  0.352192  0.166133     0.021160 -0.542760\n",
       "2017-01-27  0.364712  0.173032    -0.025382 -0.521204\n",
       "2017-01-30  0.370591  0.173805    -0.046958 -0.550743"
      ]
     },
     "execution_count": 114,
     "metadata": {},
     "output_type": "execute_result"
    }
   ],
   "source": [
    "#Calculating beta precovid\n",
    "xlk_beta_pre_covid = pre_covid_xlk_cov/pre_covid_var\n",
    "xlf_beta_pre_covid = pre_covid_xlf_cov/pre_covid_var\n",
    "vnq_beta_pre_covid = pre_covid_vnq_cov/pre_covid_var\n",
    "ibb_beta_pre_covid = pre_covid_ibb_cov/pre_covid_var\n",
    "beta_pre_covid = pd.concat([xlk_beta_pre_covid, xlf_beta_pre_covid, vnq_beta_pre_covid, ibb_beta_pre_covid],\n",
    "                          axis = 'columns', join = 'inner')\n",
    "beta_pre_covid.columns = ['Tech', 'Finance', 'Real_Estate', 'BioTech']\n",
    "beta_pre_covid.head()"
   ]
  },
  {
   "cell_type": "code",
   "execution_count": 115,
   "metadata": {},
   "outputs": [
    {
     "data": {
      "text/plain": [
       "<matplotlib.axes._subplots.AxesSubplot at 0x7feac1381a90>"
      ]
     },
     "execution_count": 115,
     "metadata": {},
     "output_type": "execute_result"
    },
    {
     "data": {
      "image/png": "[encoded data removed]",
      "text/plain": [
       "<Figure size 1440x720 with 1 Axes>"
      ]
     },
     "metadata": {
      "needs_background": "light"
     },
     "output_type": "display_data"
    }
   ],
   "source": [
    "#Graphs\n",
    "beta_pre_covid.plot(figsize = (20, 10), title = 'Beta Pre-Covid')"
   ]
  },
  {
   "cell_type": "code",
   "execution_count": 136,
   "metadata": {},
   "outputs": [
    {
     "data": {
      "text/plain": [
       "SPY    105.936534\n",
       "XLK    104.865350\n",
       "XLF     69.237603\n",
       "IBB     51.402314\n",
       "VNQ     37.694415\n",
       "dtype: float64"
      ]
     },
     "execution_count": 136,
     "metadata": {},
     "output_type": "execute_result"
    }
   ],
   "source": [
    "#Sharpe ratios precovid\n",
    "daily_returns_precovid = pre_covid_concat.pct_change().dropna()\n",
    "correlation_pre_covid = pre_covid_concat.corr()\n",
    "correlation_pre_covid_sum = correlation_pre_covid.sum(axis=0).sort_values()\n",
    "sharpe_ratios_precovid = (correlation_pre_covid.mean()*767) / (correlation_pre_covid.std() * np.sqrt(767))\n",
    "sharpe_ratios_precovid.sort_values(ascending = False)"
   ]
  },
  {
   "cell_type": "code",
   "execution_count": null,
   "metadata": {},
   "outputs": [],
   "source": []
  },
  {
   "cell_type": "code",
   "execution_count": 133,
   "metadata": {},
   "outputs": [],
   "source": [
    "#during-covid statistical analysis\n",
    "pct_change_covid = covid_data_impact.pct_change().dropna()\n",
    "pct_change_covid.head()\n",
    "\n",
    "#Covariance and variance during Covid\n",
    "during_covid_xlk_cov = during_covid_concat['XLK'].rolling(window = 15).cov(during_covid_concat['SPY']).dropna()\n",
    "during_covid_xlf_cov = during_covid_concat['XLF'].rolling(window = 15).cov(during_covid_concat['SPY']).dropna()\n",
    "during_covid_vnq_cov = during_covid_concat['VNQ'].rolling(window = 15).cov(during_covid_concat['SPY']).dropna()\n",
    "during_covid_ibb_cov = during_covid_concat['IBB'].rolling(window = 15).cov(during_covid_concat['SPY']).dropna()\n",
    "\n",
    "during_covid_var = during_covid_concat['SPY'].rolling(window = 15).var().dropna()"
   ]
  },
  {
   "cell_type": "code",
   "execution_count": 38,
   "metadata": {},
   "outputs": [
    {
     "data": {
      "text/html": [
       "<div>\n",
       "<style scoped>\n",
       "    .dataframe tbody tr th:only-of-type {\n",
       "        vertical-align: middle;\n",
       "    }\n",
       "\n",
       "    .dataframe tbody tr th {\n",
       "        vertical-align: top;\n",
       "    }\n",
       "\n",
       "    .dataframe thead th {\n",
       "        text-align: right;\n",
       "    }\n",
       "</style>\n",
       "<table border=\"1\" class=\"dataframe\">\n",
       "  <thead>\n",
       "    <tr style=\"text-align: right;\">\n",
       "      <th></th>\n",
       "      <th>Tech</th>\n",
       "      <th>Finance</th>\n",
       "      <th>Real_Estate</th>\n",
       "      <th>BioTech</th>\n",
       "    </tr>\n",
       "    <tr>\n",
       "      <th>Date</th>\n",
       "      <th></th>\n",
       "      <th></th>\n",
       "      <th></th>\n",
       "      <th></th>\n",
       "    </tr>\n",
       "  </thead>\n",
       "  <tbody>\n",
       "    <tr>\n",
       "      <th>2020-02-11</th>\n",
       "      <td>0.410411</td>\n",
       "      <td>0.095055</td>\n",
       "      <td>0.161467</td>\n",
       "      <td>0.666586</td>\n",
       "    </tr>\n",
       "    <tr>\n",
       "      <th>2020-02-12</th>\n",
       "      <td>0.425731</td>\n",
       "      <td>0.089391</td>\n",
       "      <td>0.196738</td>\n",
       "      <td>0.633605</td>\n",
       "    </tr>\n",
       "    <tr>\n",
       "      <th>2020-02-13</th>\n",
       "      <td>0.430894</td>\n",
       "      <td>0.086937</td>\n",
       "      <td>0.227413</td>\n",
       "      <td>0.604790</td>\n",
       "    </tr>\n",
       "    <tr>\n",
       "      <th>2020-02-14</th>\n",
       "      <td>0.427873</td>\n",
       "      <td>0.084542</td>\n",
       "      <td>0.263264</td>\n",
       "      <td>0.577664</td>\n",
       "    </tr>\n",
       "    <tr>\n",
       "      <th>2020-02-18</th>\n",
       "      <td>0.410060</td>\n",
       "      <td>0.077432</td>\n",
       "      <td>0.306763</td>\n",
       "      <td>0.587163</td>\n",
       "    </tr>\n",
       "  </tbody>\n",
       "</table>\n",
       "</div>"
      ],
      "text/plain": [
       "                Tech   Finance  Real_Estate   BioTech\n",
       "Date                                                 \n",
       "2020-02-11  0.410411  0.095055     0.161467  0.666586\n",
       "2020-02-12  0.425731  0.089391     0.196738  0.633605\n",
       "2020-02-13  0.430894  0.086937     0.227413  0.604790\n",
       "2020-02-14  0.427873  0.084542     0.263264  0.577664\n",
       "2020-02-18  0.410060  0.077432     0.306763  0.587163"
      ]
     },
     "execution_count": 38,
     "metadata": {},
     "output_type": "execute_result"
    }
   ],
   "source": [
    "#Beta Values during covid\n",
    "xlk_beta_covid = during_covid_xlk_cov/during_covid_var\n",
    "xlf_beta_covid = during_covid_xlf_cov/during_covid_var\n",
    "vnq_beta_covid = during_covid_vnq_cov/during_covid_var\n",
    "ibb_beta_covid = during_covid_ibb_cov/during_covid_var\n",
    "\n",
    "pct_change_covid = covid_really_clean.pct_change()\n",
    "\n",
    "beta_during_covid = pd.concat([xlk_beta_covid, xlf_beta_covid, vnq_beta_covid, ibb_beta_covid],\n",
    "                             axis = 'columns', join = 'inner')\n",
    "beta_during_covid.columns = ['Tech', 'Finance', 'Real_Estate', 'BioTech']\n",
    "beta_during_covid.head()"
   ]
  },
  {
   "cell_type": "code",
   "execution_count": 39,
   "metadata": {},
   "outputs": [
    {
     "data": {
      "text/plain": [
       "<matplotlib.axes._subplots.AxesSubplot at 0x7feac1b34c10>"
      ]
     },
     "execution_count": 39,
     "metadata": {},
     "output_type": "execute_result"
    },
    {
     "data": {
      "image/png": "[encoded data removed]",
      "text/plain": [
       "<Figure size 432x288 with 1 Axes>"
      ]
     },
     "metadata": {
      "needs_background": "light"
     },
     "output_type": "display_data"
    }
   ],
   "source": [
    "#plotting\n",
    "beta_during_covid.plot()"
   ]
  },
  {
   "cell_type": "code",
   "execution_count": null,
   "metadata": {},
   "outputs": [],
   "source": []
  }
 ],
 "metadata": {
  "kernelspec": {
   "display_name": "Python [conda env:alpacaenv]",
   "language": "python",
   "name": "conda-env-alpacaenv-py"
  },
  "language_info": {
   "codemirror_mode": {
    "name": "ipython",
    "version": 3
   },
   "file_extension": ".py",
   "mimetype": "text/x-python",
   "name": "python",
   "nbconvert_exporter": "python",
   "pygments_lexer": "ipython3",
   "version": "3.7.7"
  }
 },
 "nbformat": 4,
 "nbformat_minor": 4
}
