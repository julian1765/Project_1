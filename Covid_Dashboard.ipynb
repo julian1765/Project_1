{
 "cells": [
  {
   "cell_type": "markdown",
   "metadata": {},
   "source": [
    "## Importing Libraries "
   ]
  },
  {
   "cell_type": "code",
   "execution_count": 2,
   "metadata": {},
   "outputs": [
    {
     "name": "stderr",
     "output_type": "stream",
     "text": [
      "WARNING:param.panel_extension: A HoloViz extension was loaded previously. This means the extension is already initialized and the following Panel extensions could not be properly loaded: ['plotly']. If you are loading custom extensions with pn.extension(...) ensure that this is called before any other HoloViz extension such as hvPlot or HoloViews.\n"
     ]
    }
   ],
   "source": [
    "import pandas as pd\n",
    "from pathlib import Path\n",
    "import seaborn as sns\n",
    "import datetime as dt\n",
    "import numpy as np\n",
    "import hvplot.pandas\n",
    "import panel as pn\n",
    "import plotly.express as px\n",
    "pn.extension(\"plotly\")\n",
    "%matplotlib inline"
   ]
  },
  {
   "cell_type": "markdown",
   "metadata": {},
   "source": [
    "## Importing Data from CSV Files"
   ]
  },
  {
   "cell_type": "code",
   "execution_count": 3,
   "metadata": {},
   "outputs": [],
   "source": [
    "xlk_csv = pd.read_csv(\"../Project_1/xlk.csv\", index_col = \"Date\", infer_datetime_format = True, \n",
    "                      parse_dates = True)\n",
    "xlf_csv = pd.read_csv(\"../Project_1/XLF.csv\", index_col = \"Date\", infer_datetime_format = True, \n",
    "                      parse_dates = True)\n",
    "vnq_csv = pd.read_csv(\"../Project_1/VNQ.csv\", index_col = \"Date\", infer_datetime_format = True, \n",
    "                      parse_dates = True)\n",
    "spy_csv = pd.read_csv(\"../Project_1/spy.csv\", index_col = \"Date\", infer_datetime_format = True, \n",
    "                      parse_dates = True)\n",
    "ibb_csv = pd.read_csv(\"../Project_1/ibb.csv\", index_col = \"Date\", infer_datetime_format = True, \n",
    "                      parse_dates = True)\n",
    "covid_data = pd.read_csv(\"United_States_COVID-19_Cases_and_Deaths_by_State_over_Time.csv\", \n",
    "                         index_col=\"submission_date\", parse_dates=True)"
   ]
  },
  {
   "cell_type": "markdown",
   "metadata": {},
   "source": [
    "## Creating Dataframe for ETF Prices Pre-Covid¶"
   ]
  },
  {
   "cell_type": "code",
   "execution_count": 11,
   "metadata": {},
   "outputs": [],
   "source": [
    "xlk_pre_covid = xlk_csv.reset_index()\n",
    "xlk_pre_covid = xlk_pre_covid[0:767]\n",
    "xlk_pre_covid.columns = ['Date', 'Tech']\n",
    "\n",
    "xlf_pre_covid = xlf_csv.reset_index()\n",
    "xlf_pre_covid = xlf_pre_covid[0:767]\n",
    "xlf_pre_covid.columns = ['Date', 'Finance']\n",
    "xlf_pre_covid = xlf_pre_covid.drop(columns=['Date'])\n",
    "\n",
    "vnq_pre_covid = vnq_csv.reset_index()\n",
    "vnq_pre_covid = vnq_pre_covid[0:767]\n",
    "vnq_pre_covid.columns = ['Date', 'Real_Estate']\n",
    "vnq_pre_covid = vnq_pre_covid.drop(columns=['Date'])\n",
    "\n",
    "spy_pre_covid = spy_csv.reset_index()\n",
    "spy_pre_covid = spy_pre_covid[0:767]\n",
    "spy_pre_covid.columns = ['Date', 'SNP500']\n",
    "spy_pre_covid = spy_pre_covid.drop(columns=['Date'])\n",
    "\n",
    "ibb_pre_covid = ibb_csv.reset_index()\n",
    "ibb_pre_covid = ibb_pre_covid[0:767]\n",
    "ibb_pre_covid.columns = ['Date', 'BioTech']\n",
    "ibb_pre_covid = ibb_pre_covid.drop(columns=['Date'])\n",
    "\n",
    "pre_covid_concat = pd.concat([xlk_pre_covid, xlf_pre_covid, vnq_pre_covid,\n",
    "                              spy_pre_covid, ibb_pre_covid], axis = \"columns\", join = \"inner\")\n",
    "pre_covid_concat.set_index([\"Date\"], inplace = True)"
   ]
  },
  {
   "cell_type": "markdown",
   "metadata": {},
   "source": [
    "## Creating Dataframe for ETF Prices During Covid"
   ]
  },
  {
   "cell_type": "code",
   "execution_count": 12,
   "metadata": {},
   "outputs": [],
   "source": [
    "xlk_post_covid = xlk_csv.reset_index()\n",
    "xlk_post_covid = xlk_post_covid[767:]\n",
    "xlk_post_covid.columns = ['Date', 'Tech']\n",
    "\n",
    "xlf_post_covid = xlf_csv.reset_index()\n",
    "xlf_post_covid = xlf_post_covid[767:]\n",
    "xlf_post_covid.columns = ['Date', 'Finance']\n",
    "xlf_post_covid = xlf_post_covid.drop(columns=['Date'])\n",
    "\n",
    "vnq_post_covid = vnq_csv.reset_index()\n",
    "vnq_post_covid = vnq_post_covid[767:]\n",
    "vnq_post_covid.columns = ['Date', 'Real_Estate']\n",
    "vnq_post_covid = vnq_post_covid.drop(columns=['Date'])\n",
    "\n",
    "spy_post_covid = spy_csv.reset_index()\n",
    "spy_post_covid = spy_post_covid[767:]\n",
    "spy_post_covid.columns = ['Date', 'SNP500']\n",
    "spy_post_covid = spy_post_covid.drop(columns=['Date'])\n",
    "\n",
    "ibb_post_covid = ibb_csv.reset_index()\n",
    "ibb_post_covid = ibb_post_covid[767:]\n",
    "ibb_post_covid.columns = ['Date', 'BioTech']\n",
    "ibb_post_covid = ibb_post_covid.drop(columns=['Date'])\n",
    "\n",
    "during_covid_concat = pd.concat([xlk_post_covid, xlf_post_covid, vnq_post_covid,\n",
    "                              spy_post_covid, ibb_post_covid], axis = \"columns\", join = \"inner\")\n",
    "during_covid_concat.set_index([\"Date\"], inplace = True)"
   ]
  },
  {
   "cell_type": "markdown",
   "metadata": {},
   "source": [
    "## Creating Covid Cases Dataframe"
   ]
  },
  {
   "cell_type": "code",
   "execution_count": 15,
   "metadata": {},
   "outputs": [],
   "source": [
    "covid_clean_data = covid_data[[\"tot_cases\",\"tot_death\"]]\n",
    "covid_really_clean = covid_clean_data.groupby(covid_clean_data.index).sum()\n",
    "covid_really_clean.reset_index(inplace = True)\n",
    "covid_really_clean.columns = ['Date', 'Total_Cases', 'Total_Deaths']\n",
    "covid_really_clean.set_index('Date', inplace=True)"
   ]
  },
  {
   "cell_type": "markdown",
   "metadata": {},
   "source": [
    "## Concatinating Covid Dataframe with ETF Prices"
   ]
  },
  {
   "cell_type": "code",
   "execution_count": 17,
   "metadata": {},
   "outputs": [],
   "source": [
    "covid_data_impact = pd.concat([covid_really_clean, during_covid_concat], axis = 'columns',\n",
    "                              join = 'inner'\n",
    "                             )"
   ]
  },
  {
   "cell_type": "markdown",
   "metadata": {},
   "source": [
    "## Creating the Dashboard"
   ]
  },
  {
   "cell_type": "markdown",
   "metadata": {},
   "source": [
    "### Functions"
   ]
  },
  {
   "cell_type": "code",
   "execution_count": 33,
   "metadata": {},
   "outputs": [],
   "source": [
    "def pre_covid_trend():\n",
    "    \"\"\"Trends of the data from 2017 to 2020 before covid hit\"\"\"\n",
    "    graph = px.line(pre_covid_concat)\n",
    "    return graph\n",
    "\n",
    "def during_covid_trend():\n",
    "    \"\"\"Trends of the data in 2020 once Covid hit on January 21\"\"\"\n",
    "    graph = px.line(during_covid_concat)\n",
    "    return graph\n",
    "\n",
    "def all_time_trend():\n",
    "    \"\"\"Trend of the data of the entire DataFrame\"\"\"\n",
    "    pre_covid_plot = pre_covid_concat.hvplot()\n",
    "    during_covid = during_covid_concat.hvplot()\n",
    "    graph = pre_covid_plot * during_covid\n",
    "    return graph\n",
    "\n",
    "def sharpe_pre_covid():\n",
    "    \"\"\"Sharpe ratios for the ETF's pre covid\"\"\"\n",
    "    daily_returns_precovid = pre_covid_concat.pct_change().dropna()\n",
    "    std_pre_covid = pre_covid_concat.std()\n",
    "    volatility = std_pre_covid*np.sqrt(252)\n",
    "    correlation_pre_covid = pre_covid_concat.corr()\n",
    "    correlation_pre_covid_sum = correlation_pre_covid.sum(axis=0).sort_values()\n",
    "    sharpe_ratios_precovid = (daily_returns_precovid.mean()*252) / (daily_returns_precovid.std() * np.sqrt(252))\n",
    "    sharpe_ratios_precovid.sort_values(ascending = False, inplace = True)\n",
    "    graph = sharpe_ratios_precovid.hvplot.bar(title = 'Sharpe Ratios Pre Covid')\n",
    "    return graph\n",
    "\n",
    "def sharpe_during_covid():\n",
    "    \"\"\"Sharpe ratios for the ETF's during covid\"\"\"\n",
    "    daily_returns_covid = during_covid_concat.pct_change().dropna()\n",
    "    std_during_covid = during_covid_concat.std()\n",
    "    during_volatility = std_during_covid*np.sqrt(252)\n",
    "    correlation_covid = during_covid_concat.corr()\n",
    "    correlation_covid_sum = correlation_covid.sum(axis=0).sort_values()\n",
    "    sharpe_ratios_covid = (daily_returns_covid.mean()*252) / (daily_returns_covid.std() * np.sqrt(252))\n",
    "    sharpe_ratios_covid.sort_values(ascending = False, inplace = True)\n",
    "    graph = sharpe_ratios_covid.hvplot.bar(title = 'Sharpe Ratios During Covid')\n",
    "    return graph\n",
    "\n",
    "def sharpe_concatinated():\n",
    "    \"\"\"Combined Sharpe ratios for the ETF's before and during covid\"\"\"\n",
    "    daily_returns_precovid = pre_covid_concat.pct_change().dropna()\n",
    "    std_pre_covid = pre_covid_concat.std()\n",
    "    volatility = std_pre_covid*np.sqrt(252)\n",
    "    correlation_pre_covid = pre_covid_concat.corr()\n",
    "    correlation_pre_covid_sum = correlation_pre_covid.sum(axis=0).sort_values()\n",
    "    sharpe_ratios_precovid = (daily_returns_precovid.mean()*252) / (daily_returns_precovid.std() * np.sqrt(252))\n",
    "    sharpe_ratios_precovid.sort_values(ascending = False, inplace = True)\n",
    "    sharpe_pre_covid_graph = sharpe_ratios_precovid.hvplot.bar(title = 'Sharpe Ratios Pre Covid')\n",
    "    daily_returns_covid = during_covid_concat.pct_change().dropna()\n",
    "    std_during_covid = during_covid_concat.std()\n",
    "    during_volatility = std_during_covid*np.sqrt(252)\n",
    "    correlation_covid = during_covid_concat.corr()\n",
    "    correlation_covid_sum = correlation_covid.sum(axis=0).sort_values()\n",
    "    sharpe_ratios_covid = (daily_returns_covid.mean()*252) / (daily_returns_covid.std() * np.sqrt(252))\n",
    "    sharpe_ratios_covid.sort_values(ascending = False, inplace = True)\n",
    "    sharpe_covid_graph = sharpe_ratios_covid.hvplot.bar(title = 'Sharpe Ratios During Covid')\n",
    "    graph = sharpe_pre_covid_graph * sharpe_covid_graph\n",
    "    return graph\n",
    "\n",
    "def beta_pre_covid():\n",
    "    \"\"\"Beta Values for the ETF's pre covid\"\"\"\n",
    "    pre_covid_xlk_cov = pre_covid_concat['Tech'].rolling(window = 2).cov(pre_covid_concat['SNP500']).dropna()\n",
    "    pre_covid_xlf_cov = pre_covid_concat['Finance'].rolling(window = 2).cov(pre_covid_concat['SNP500']).dropna()\n",
    "    pre_covid_vnq_cov = pre_covid_concat['Real_Estate'].rolling(window = 2).cov(pre_covid_concat['SNP500']).dropna()\n",
    "    pre_covid_ibb_cov = pre_covid_concat['BioTech'].rolling(window = 2).cov(pre_covid_concat['SNP500']).dropna()\n",
    "    pre_covid_var = pre_covid_concat['SNP500'].rolling(window = 2).var().dropna()\n",
    "    xlk_beta_pre_covid = pre_covid_xlk_cov/pre_covid_var\n",
    "    xlf_beta_pre_covid = pre_covid_xlf_cov/pre_covid_var\n",
    "    vnq_beta_pre_covid = pre_covid_vnq_cov/pre_covid_var\n",
    "    ibb_beta_pre_covid = pre_covid_ibb_cov/pre_covid_var\n",
    "    beta_pre_covid = pd.concat([xlk_beta_pre_covid, xlf_beta_pre_covid, vnq_beta_pre_covid, ibb_beta_pre_covid],\n",
    "                          axis = 'columns', join = 'inner')\n",
    "    graph = beta_pre_covid.hvplot(figsize = (10, 5), title = 'Beta Values Pre-Covid'\n",
    "                                       ).opts(ylim=(-150, 220))\n",
    "    return graph\n",
    "\n",
    "def beta_during_covid():\n",
    "    \"\"\"Beta Values for the ETF's during covid\"\"\"\n",
    "    during_covid_xlk_cov = during_covid_concat['Tech'].rolling(window = 2).cov(during_covid_concat['SNP500']).dropna()\n",
    "    during_covid_xlf_cov = during_covid_concat['Finance'].rolling(window = 2).cov(during_covid_concat['SNP500']).dropna()\n",
    "    during_covid_vnq_cov = during_covid_concat['Real_Estate'].rolling(window = 2).cov(during_covid_concat['SNP500']).dropna()\n",
    "    during_covid_ibb_cov = during_covid_concat['BioTech'].rolling(window = 2).cov(during_covid_concat['SNP500']).dropna()\n",
    "    during_covid_var = during_covid_concat['SNP500'].rolling(window = 2).var().dropna()\n",
    "    xlk_beta_covid = during_covid_xlk_cov/during_covid_var\n",
    "    xlf_beta_covid = during_covid_xlf_cov/during_covid_var\n",
    "    vnq_beta_covid = during_covid_vnq_cov/during_covid_var\n",
    "    ibb_beta_covid = during_covid_ibb_cov/during_covid_var\n",
    "    pct_change_covid = covid_really_clean.pct_change()\n",
    "    beta_during_covid = pd.concat([xlk_beta_covid, xlf_beta_covid, vnq_beta_covid, ibb_beta_covid],\n",
    "                             axis = 'columns', join = 'inner')\n",
    "    graph = beta_during_covid.hvplot(figsize = (20, 10), title = 'Beta During Covid')\n",
    "    return graph\n",
    "\n",
    "def beta_concatinated():\n",
    "    \"\"\"Beta Values for the ETF's before and during covid\"\"\"\n",
    "    pre_covid_xlk_cov = pre_covid_concat['Tech'].rolling(window = 2).cov(pre_covid_concat['SNP500']).dropna()\n",
    "    pre_covid_xlf_cov = pre_covid_concat['Finance'].rolling(window = 2).cov(pre_covid_concat['SNP500']).dropna()\n",
    "    pre_covid_vnq_cov = pre_covid_concat['Real_Estate'].rolling(window = 2).cov(pre_covid_concat['SNP500']).dropna()\n",
    "    pre_covid_ibb_cov = pre_covid_concat['BioTech'].rolling(window = 2).cov(pre_covid_concat['SNP500']).dropna()\n",
    "    pre_covid_var = pre_covid_concat['SNP500'].rolling(window = 2).var().dropna()\n",
    "    xlk_beta_pre_covid = pre_covid_xlk_cov/pre_covid_var\n",
    "    xlf_beta_pre_covid = pre_covid_xlf_cov/pre_covid_var\n",
    "    vnq_beta_pre_covid = pre_covid_vnq_cov/pre_covid_var\n",
    "    ibb_beta_pre_covid = pre_covid_ibb_cov/pre_covid_var\n",
    "    beta_pre_covid = pd.concat([xlk_beta_pre_covid, xlf_beta_pre_covid, vnq_beta_pre_covid, ibb_beta_pre_covid],\n",
    "                          axis = 'columns', join = 'inner')\n",
    "    beta_precovid_graph = beta_pre_covid.hvplot(figsize = (10, 5), title = 'Beta Values Pre-Covid'\n",
    "                                       ).opts(ylim=(-150, 220))\n",
    "    during_covid_xlk_cov = during_covid_concat['Tech'].rolling(window = 2).cov(during_covid_concat['SNP500']).dropna()\n",
    "    during_covid_xlf_cov = during_covid_concat['Finance'].rolling(window = 2).cov(during_covid_concat['SNP500']).dropna()\n",
    "    during_covid_vnq_cov = during_covid_concat['Real_Estate'].rolling(window = 2).cov(during_covid_concat['SNP500']).dropna()\n",
    "    during_covid_ibb_cov = during_covid_concat['BioTech'].rolling(window = 2).cov(during_covid_concat['SNP500']).dropna()\n",
    "    during_covid_var = during_covid_concat['SNP500'].rolling(window = 2).var().dropna()\n",
    "    xlk_beta_covid = during_covid_xlk_cov/during_covid_var\n",
    "    xlf_beta_covid = during_covid_xlf_cov/during_covid_var\n",
    "    vnq_beta_covid = during_covid_vnq_cov/during_covid_var\n",
    "    ibb_beta_covid = during_covid_ibb_cov/during_covid_var\n",
    "    pct_change_covid = covid_really_clean.pct_change()\n",
    "    beta_during_covid = pd.concat([xlk_beta_covid, xlf_beta_covid, vnq_beta_covid, ibb_beta_covid],\n",
    "                             axis = 'columns', join = 'inner')\n",
    "    beta_during_covid_graph = beta_during_covid.hvplot(figsize = (20, 10), title = 'Beta During Covid')\n",
    "    graph = beta_precovid_graph + beta_during_covid_graph\n",
    "    return graph\n"
   ]
  },
  {
   "cell_type": "markdown",
   "metadata": {},
   "source": [
    "### Creating the Dashboard itself"
   ]
  },
  {
   "cell_type": "code",
   "execution_count": null,
   "metadata": {},
   "outputs": [],
   "source": [
    "\"\"\"This section includes only pre covid graphs\"\"\"\n",
    "pre_covid_info = pn.Column(\"All graphs pre covid\", pre_covid_trend(), sharpe_pre_covid(),\n",
    "                          beta_pre_covid())\n",
    "\n",
    "\"\"\"This section includes graphs of only the covid period\"\"\"\n",
    "covid_info = pn.Column(\"All graphs during covid\", during_covid_trend(), sharpe_during_covid(),\n",
    "                      beta_during_covid())\n",
    "\n",
    "\"\"\"This section includes the concatinated graphs of both periods\"\"\"\n",
    "all_info = pn.Column(\"The big picutre\", all_time_trend(), sharpe_concatinated(),\n",
    "                    beta_concatinated())\n",
    "\n",
    "\"\"\"Dashboard visualisation\"\"\"\n",
    "dashboard_covid = pn.Tabs(\n",
    "    (\"Pre-Covid\", pre_covid_info), (\"During Covid\", covid_info), (\"Comparisons\", all_info)\n",
    ")\n",
    "dashboard_covid"
   ]
  },
  {
   "cell_type": "code",
   "execution_count": null,
   "metadata": {},
   "outputs": [],
   "source": []
  }
 ],
 "metadata": {
  "kernelspec": {
   "display_name": "Python [conda env:pyvizenv] *",
   "language": "python",
   "name": "conda-env-pyvizenv-py"
  },
  "language_info": {
   "codemirror_mode": {
    "name": "ipython",
    "version": 3
   },
   "file_extension": ".py",
   "mimetype": "text/x-python",
   "name": "python",
   "nbconvert_exporter": "python",
   "pygments_lexer": "ipython3",
   "version": "3.7.7"
  }
 },
 "nbformat": 4,
 "nbformat_minor": 4
}
